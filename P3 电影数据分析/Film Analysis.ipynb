{
 "cells": [
  {
   "cell_type": "markdown",
   "metadata": {},
   "source": [
    "# 电影数据可视化报告"
   ]
  },
  {
   "cell_type": "markdown",
   "metadata": {},
   "source": [
    "## 一. 数据整理与清洗"
   ]
  },
  {
   "cell_type": "markdown",
   "metadata": {},
   "source": [
    "### 1. 数据一览"
   ]
  },
  {
   "cell_type": "code",
   "execution_count": 82,
   "metadata": {
    "collapsed": true
   },
   "outputs": [],
   "source": [
    "import numpy as np\n",
    "import pandas as pd"
   ]
  },
  {
   "cell_type": "code",
   "execution_count": 83,
   "metadata": {
    "collapsed": true
   },
   "outputs": [],
   "source": [
    "df = pd.read_csv('movies.csv')"
   ]
  },
  {
   "cell_type": "code",
   "execution_count": 84,
   "metadata": {
    "collapsed": false
   },
   "outputs": [
    {
     "data": {
      "text/html": [
       "<div>\n",
       "<table border=\"1\" class=\"dataframe\">\n",
       "  <thead>\n",
       "    <tr style=\"text-align: right;\">\n",
       "      <th></th>\n",
       "      <th>id</th>\n",
       "      <th>imdb_id</th>\n",
       "      <th>popularity</th>\n",
       "      <th>budget</th>\n",
       "      <th>revenue</th>\n",
       "      <th>original_title</th>\n",
       "      <th>cast</th>\n",
       "      <th>homepage</th>\n",
       "      <th>director</th>\n",
       "      <th>tagline</th>\n",
       "      <th>...</th>\n",
       "      <th>Unnamed: 21</th>\n",
       "      <th>Unnamed: 22</th>\n",
       "      <th>Unnamed: 23</th>\n",
       "      <th>Unnamed: 24</th>\n",
       "      <th>Unnamed: 25</th>\n",
       "      <th>Unnamed: 26</th>\n",
       "      <th>Unnamed: 27</th>\n",
       "      <th>Unnamed: 28</th>\n",
       "      <th>Unnamed: 29</th>\n",
       "      <th>Unnamed: 30</th>\n",
       "    </tr>\n",
       "  </thead>\n",
       "  <tbody>\n",
       "    <tr>\n",
       "      <th>0</th>\n",
       "      <td>135397</td>\n",
       "      <td>tt0369610</td>\n",
       "      <td>32.985763</td>\n",
       "      <td>150000000</td>\n",
       "      <td>1513528810</td>\n",
       "      <td>Jurassic World</td>\n",
       "      <td>Chris Pratt|Bryce Dallas Howard|Irrfan Khan|Vi...</td>\n",
       "      <td>http://www.jurassicworld.com/</td>\n",
       "      <td>Colin Trevorrow</td>\n",
       "      <td>The park is open.</td>\n",
       "      <td>...</td>\n",
       "      <td>NaN</td>\n",
       "      <td>NaN</td>\n",
       "      <td>NaN</td>\n",
       "      <td>NaN</td>\n",
       "      <td>NaN</td>\n",
       "      <td>NaN</td>\n",
       "      <td>NaN</td>\n",
       "      <td>NaN</td>\n",
       "      <td>NaN</td>\n",
       "      <td>NaN</td>\n",
       "    </tr>\n",
       "    <tr>\n",
       "      <th>1</th>\n",
       "      <td>76341</td>\n",
       "      <td>tt1392190</td>\n",
       "      <td>28.419936</td>\n",
       "      <td>150000000</td>\n",
       "      <td>378436354</td>\n",
       "      <td>Mad Max: Fury Road</td>\n",
       "      <td>Tom Hardy|Charlize Theron|Hugh Keays-Byrne|Nic...</td>\n",
       "      <td>http://www.madmaxmovie.com/</td>\n",
       "      <td>George Miller</td>\n",
       "      <td>What a Lovely Day.</td>\n",
       "      <td>...</td>\n",
       "      <td>NaN</td>\n",
       "      <td>NaN</td>\n",
       "      <td>NaN</td>\n",
       "      <td>NaN</td>\n",
       "      <td>NaN</td>\n",
       "      <td>NaN</td>\n",
       "      <td>NaN</td>\n",
       "      <td>NaN</td>\n",
       "      <td>NaN</td>\n",
       "      <td>NaN</td>\n",
       "    </tr>\n",
       "    <tr>\n",
       "      <th>2</th>\n",
       "      <td>262500</td>\n",
       "      <td>tt2908446</td>\n",
       "      <td>13.112507</td>\n",
       "      <td>110000000</td>\n",
       "      <td>295238201</td>\n",
       "      <td>Insurgent</td>\n",
       "      <td>Shailene Woodley|Theo James|Kate Winslet|Ansel...</td>\n",
       "      <td>http://www.thedivergentseries.movie/#insurgent</td>\n",
       "      <td>Robert Schwentke</td>\n",
       "      <td>One Choice Can Destroy You</td>\n",
       "      <td>...</td>\n",
       "      <td>NaN</td>\n",
       "      <td>NaN</td>\n",
       "      <td>NaN</td>\n",
       "      <td>NaN</td>\n",
       "      <td>NaN</td>\n",
       "      <td>NaN</td>\n",
       "      <td>NaN</td>\n",
       "      <td>NaN</td>\n",
       "      <td>NaN</td>\n",
       "      <td>NaN</td>\n",
       "    </tr>\n",
       "    <tr>\n",
       "      <th>3</th>\n",
       "      <td>140607</td>\n",
       "      <td>tt2488496</td>\n",
       "      <td>11.173104</td>\n",
       "      <td>200000000</td>\n",
       "      <td>2068178225</td>\n",
       "      <td>Star Wars: The Force Awakens</td>\n",
       "      <td>Harrison Ford|Mark Hamill|Carrie Fisher|Adam D...</td>\n",
       "      <td>http://www.starwars.com/films/star-wars-episod...</td>\n",
       "      <td>J.J. Abrams</td>\n",
       "      <td>Every generation has a story.</td>\n",
       "      <td>...</td>\n",
       "      <td>NaN</td>\n",
       "      <td>NaN</td>\n",
       "      <td>NaN</td>\n",
       "      <td>NaN</td>\n",
       "      <td>NaN</td>\n",
       "      <td>NaN</td>\n",
       "      <td>NaN</td>\n",
       "      <td>NaN</td>\n",
       "      <td>NaN</td>\n",
       "      <td>NaN</td>\n",
       "    </tr>\n",
       "    <tr>\n",
       "      <th>4</th>\n",
       "      <td>168259</td>\n",
       "      <td>tt2820852</td>\n",
       "      <td>9.335014</td>\n",
       "      <td>190000000</td>\n",
       "      <td>1506249360</td>\n",
       "      <td>Furious 7</td>\n",
       "      <td>Vin Diesel|Paul Walker|Jason Statham|Michelle ...</td>\n",
       "      <td>http://www.furious7.com/</td>\n",
       "      <td>James Wan</td>\n",
       "      <td>Vengeance Hits Home</td>\n",
       "      <td>...</td>\n",
       "      <td>NaN</td>\n",
       "      <td>NaN</td>\n",
       "      <td>NaN</td>\n",
       "      <td>NaN</td>\n",
       "      <td>NaN</td>\n",
       "      <td>NaN</td>\n",
       "      <td>NaN</td>\n",
       "      <td>NaN</td>\n",
       "      <td>NaN</td>\n",
       "      <td>NaN</td>\n",
       "    </tr>\n",
       "  </tbody>\n",
       "</table>\n",
       "<p>5 rows × 31 columns</p>\n",
       "</div>"
      ],
      "text/plain": [
       "       id    imdb_id  popularity     budget     revenue  \\\n",
       "0  135397  tt0369610   32.985763  150000000  1513528810   \n",
       "1   76341  tt1392190   28.419936  150000000   378436354   \n",
       "2  262500  tt2908446   13.112507  110000000   295238201   \n",
       "3  140607  tt2488496   11.173104  200000000  2068178225   \n",
       "4  168259  tt2820852    9.335014  190000000  1506249360   \n",
       "\n",
       "                 original_title  \\\n",
       "0                Jurassic World   \n",
       "1            Mad Max: Fury Road   \n",
       "2                     Insurgent   \n",
       "3  Star Wars: The Force Awakens   \n",
       "4                     Furious 7   \n",
       "\n",
       "                                                cast  \\\n",
       "0  Chris Pratt|Bryce Dallas Howard|Irrfan Khan|Vi...   \n",
       "1  Tom Hardy|Charlize Theron|Hugh Keays-Byrne|Nic...   \n",
       "2  Shailene Woodley|Theo James|Kate Winslet|Ansel...   \n",
       "3  Harrison Ford|Mark Hamill|Carrie Fisher|Adam D...   \n",
       "4  Vin Diesel|Paul Walker|Jason Statham|Michelle ...   \n",
       "\n",
       "                                            homepage          director  \\\n",
       "0                      http://www.jurassicworld.com/   Colin Trevorrow   \n",
       "1                        http://www.madmaxmovie.com/     George Miller   \n",
       "2     http://www.thedivergentseries.movie/#insurgent  Robert Schwentke   \n",
       "3  http://www.starwars.com/films/star-wars-episod...       J.J. Abrams   \n",
       "4                           http://www.furious7.com/         James Wan   \n",
       "\n",
       "                         tagline     ...     Unnamed: 21 Unnamed: 22  \\\n",
       "0              The park is open.     ...             NaN         NaN   \n",
       "1             What a Lovely Day.     ...             NaN         NaN   \n",
       "2     One Choice Can Destroy You     ...             NaN         NaN   \n",
       "3  Every generation has a story.     ...             NaN         NaN   \n",
       "4            Vengeance Hits Home     ...             NaN         NaN   \n",
       "\n",
       "  Unnamed: 23 Unnamed: 24 Unnamed: 25 Unnamed: 26 Unnamed: 27 Unnamed: 28  \\\n",
       "0         NaN         NaN         NaN         NaN         NaN         NaN   \n",
       "1         NaN         NaN         NaN         NaN         NaN         NaN   \n",
       "2         NaN         NaN         NaN         NaN         NaN         NaN   \n",
       "3         NaN         NaN         NaN         NaN         NaN         NaN   \n",
       "4         NaN         NaN         NaN         NaN         NaN         NaN   \n",
       "\n",
       "  Unnamed: 29 Unnamed: 30  \n",
       "0         NaN         NaN  \n",
       "1         NaN         NaN  \n",
       "2         NaN         NaN  \n",
       "3         NaN         NaN  \n",
       "4         NaN         NaN  \n",
       "\n",
       "[5 rows x 31 columns]"
      ]
     },
     "execution_count": 84,
     "metadata": {},
     "output_type": "execute_result"
    }
   ],
   "source": [
    "# 显示前五行数据\n",
    "df.head()"
   ]
  },
  {
   "cell_type": "code",
   "execution_count": 85,
   "metadata": {
    "collapsed": false
   },
   "outputs": [
    {
     "name": "stdout",
     "output_type": "stream",
     "text": [
      "<class 'pandas.core.frame.DataFrame'>\n",
      "RangeIndex: 10843 entries, 0 to 10842\n",
      "Data columns (total 31 columns):\n",
      "id                      10843 non-null int64\n",
      "imdb_id                 10833 non-null object\n",
      "popularity              10843 non-null float64\n",
      "budget                  10843 non-null int64\n",
      "revenue                 10843 non-null int64\n",
      "original_title          10843 non-null object\n",
      "cast                    10751 non-null object\n",
      "homepage                2948 non-null object\n",
      "director                10786 non-null object\n",
      "tagline                 8032 non-null object\n",
      "keywords                9362 non-null object\n",
      "overview                10839 non-null object\n",
      "runtime                 10842 non-null object\n",
      "genres                  10816 non-null object\n",
      "production_companies    9827 non-null object\n",
      "release_date            10842 non-null object\n",
      "vote_count              10843 non-null object\n",
      "vote_average            10842 non-null object\n",
      "release_year            10843 non-null object\n",
      "budget_adj              10843 non-null object\n",
      "revenue_adj             10816 non-null object\n",
      "Unnamed: 21             18 non-null object\n",
      "Unnamed: 22             13 non-null object\n",
      "Unnamed: 23             8 non-null object\n",
      "Unnamed: 24             4 non-null object\n",
      "Unnamed: 25             4 non-null object\n",
      "Unnamed: 26             3 non-null float64\n",
      "Unnamed: 27             3 non-null float64\n",
      "Unnamed: 28             2 non-null float64\n",
      "Unnamed: 29             2 non-null float64\n",
      "Unnamed: 30             1 non-null float64\n",
      "dtypes: float64(6), int64(3), object(22)\n",
      "memory usage: 1.7+ MB\n"
     ]
    }
   ],
   "source": [
    "# 查看数据各字段类型\n",
    "df.info()"
   ]
  },
  {
   "cell_type": "markdown",
   "metadata": {},
   "source": [
    "可以看到，各数据字段行数各不相同，说明有缺失。"
   ]
  },
  {
   "cell_type": "markdown",
   "metadata": {},
   "source": [
    "### 2. 选择合适的字段"
   ]
  },
  {
   "cell_type": "markdown",
   "metadata": {},
   "source": [
    "原始数据中字段过多，我们根据需要进行选择。\n",
    "\n",
    "我们用“imdb_id”唯一识别每部电影，可取代“电影名”、“id”字段；使用“调整后预算”、“调整后收入”代替“预算”、“收入”字段，以排除不同年代购买力差异带来的对金额的误读；使用“关键字”、“风格”、“制作公司”、“上映年份”字段进行指定问题分析；使用“平均评分”字段概括观影者对电影的评价。"
   ]
  },
  {
   "cell_type": "code",
   "execution_count": 100,
   "metadata": {
    "collapsed": false
   },
   "outputs": [
    {
     "data": {
      "text/html": [
       "<div>\n",
       "<table border=\"1\" class=\"dataframe\">\n",
       "  <thead>\n",
       "    <tr style=\"text-align: right;\">\n",
       "      <th></th>\n",
       "      <th>imdb_id</th>\n",
       "      <th>keywords</th>\n",
       "      <th>release_year</th>\n",
       "      <th>budget_adj</th>\n",
       "      <th>revenue_adj</th>\n",
       "      <th>genres</th>\n",
       "      <th>production_companies</th>\n",
       "      <th>vote_average</th>\n",
       "    </tr>\n",
       "  </thead>\n",
       "  <tbody>\n",
       "    <tr>\n",
       "      <th>0</th>\n",
       "      <td>tt0369610</td>\n",
       "      <td>monster|dna|tyrannosaurus rex|velociraptor|island</td>\n",
       "      <td>2015</td>\n",
       "      <td>137999939.3</td>\n",
       "      <td>1392445893</td>\n",
       "      <td>Action|Adventure|Science Fiction|Thriller</td>\n",
       "      <td>Universal Studios|Amblin Entertainment|Legenda...</td>\n",
       "      <td>6.5</td>\n",
       "    </tr>\n",
       "    <tr>\n",
       "      <th>1</th>\n",
       "      <td>tt1392190</td>\n",
       "      <td>future|chase|post-apocalyptic|dystopia|australia</td>\n",
       "      <td>2015</td>\n",
       "      <td>137999939.3</td>\n",
       "      <td>348161292.5</td>\n",
       "      <td>Action|Adventure|Science Fiction|Thriller</td>\n",
       "      <td>Village Roadshow Pictures|Kennedy Miller Produ...</td>\n",
       "      <td>7.1</td>\n",
       "    </tr>\n",
       "    <tr>\n",
       "      <th>2</th>\n",
       "      <td>tt2908446</td>\n",
       "      <td>based on novel|revolution|dystopia|sequel|dyst...</td>\n",
       "      <td>2015</td>\n",
       "      <td>101199955.5</td>\n",
       "      <td>271619025.4</td>\n",
       "      <td>Adventure|Science Fiction|Thriller</td>\n",
       "      <td>Summit Entertainment|Mandeville Films|Red Wago...</td>\n",
       "      <td>6.3</td>\n",
       "    </tr>\n",
       "    <tr>\n",
       "      <th>3</th>\n",
       "      <td>tt2488496</td>\n",
       "      <td>android|spaceship|jedi|space opera|3d</td>\n",
       "      <td>2015</td>\n",
       "      <td>183999919</td>\n",
       "      <td>1902723130</td>\n",
       "      <td>Action|Adventure|Science Fiction|Fantasy</td>\n",
       "      <td>Lucasfilm|Truenorth Productions|Bad Robot</td>\n",
       "      <td>7.5</td>\n",
       "    </tr>\n",
       "    <tr>\n",
       "      <th>4</th>\n",
       "      <td>tt2820852</td>\n",
       "      <td>car race|speed|revenge|suspense|car</td>\n",
       "      <td>2015</td>\n",
       "      <td>174799923.1</td>\n",
       "      <td>1385748801</td>\n",
       "      <td>Action|Crime|Thriller</td>\n",
       "      <td>Universal Pictures|Original Film|Media Rights ...</td>\n",
       "      <td>7.3</td>\n",
       "    </tr>\n",
       "  </tbody>\n",
       "</table>\n",
       "</div>"
      ],
      "text/plain": [
       "     imdb_id                                           keywords release_year  \\\n",
       "0  tt0369610  monster|dna|tyrannosaurus rex|velociraptor|island         2015   \n",
       "1  tt1392190   future|chase|post-apocalyptic|dystopia|australia         2015   \n",
       "2  tt2908446  based on novel|revolution|dystopia|sequel|dyst...         2015   \n",
       "3  tt2488496              android|spaceship|jedi|space opera|3d         2015   \n",
       "4  tt2820852                car race|speed|revenge|suspense|car         2015   \n",
       "\n",
       "    budget_adj  revenue_adj                                     genres  \\\n",
       "0  137999939.3   1392445893  Action|Adventure|Science Fiction|Thriller   \n",
       "1  137999939.3  348161292.5  Action|Adventure|Science Fiction|Thriller   \n",
       "2  101199955.5  271619025.4         Adventure|Science Fiction|Thriller   \n",
       "3    183999919   1902723130   Action|Adventure|Science Fiction|Fantasy   \n",
       "4  174799923.1   1385748801                      Action|Crime|Thriller   \n",
       "\n",
       "                                production_companies vote_average  \n",
       "0  Universal Studios|Amblin Entertainment|Legenda...          6.5  \n",
       "1  Village Roadshow Pictures|Kennedy Miller Produ...          7.1  \n",
       "2  Summit Entertainment|Mandeville Films|Red Wago...          6.3  \n",
       "3          Lucasfilm|Truenorth Productions|Bad Robot          7.5  \n",
       "4  Universal Pictures|Original Film|Media Rights ...          7.3  "
      ]
     },
     "execution_count": 100,
     "metadata": {},
     "output_type": "execute_result"
    }
   ],
   "source": [
    "#选取需要的字段\n",
    "movie = df[['imdb_id','keywords','release_year','budget_adj','revenue_adj',\n",
    "                 'genres','production_companies','vote_average']]\n",
    "movie.head()"
   ]
  },
  {
   "cell_type": "markdown",
   "metadata": {},
   "source": [
    "### 3. 数据清理与整理"
   ]
  },
  {
   "cell_type": "code",
   "execution_count": 101,
   "metadata": {
    "collapsed": false,
    "scrolled": true
   },
   "outputs": [
    {
     "name": "stdout",
     "output_type": "stream",
     "text": [
      "<class 'pandas.core.frame.DataFrame'>\n",
      "Int64Index: 8669 entries, 0 to 10842\n",
      "Data columns (total 8 columns):\n",
      "imdb_id                 8669 non-null object\n",
      "keywords                8669 non-null object\n",
      "release_year            8669 non-null object\n",
      "budget_adj              8669 non-null object\n",
      "revenue_adj             8669 non-null object\n",
      "genres                  8669 non-null object\n",
      "production_companies    8669 non-null object\n",
      "vote_average            8669 non-null object\n",
      "dtypes: object(8)\n",
      "memory usage: 338.6+ KB\n"
     ]
    }
   ],
   "source": [
    "# 删除有缺失值的行\n",
    "movie_data = movie.dropna(axis = 0)\n",
    "movie_data.info()"
   ]
  },
  {
   "cell_type": "markdown",
   "metadata": {},
   "source": [
    "还剩8669行数据，损失不大~~"
   ]
  },
  {
   "cell_type": "code",
   "execution_count": 103,
   "metadata": {
    "collapsed": false
   },
   "outputs": [],
   "source": [
    "# 将数据保存，得到去掉缺失项的数据文件\n",
    "movie_data.to_csv('movie_data.csv',index = False)"
   ]
  },
  {
   "cell_type": "markdown",
   "metadata": {},
   "source": [
    "打开保存的文件发现：\n",
    "\n",
    "1）“上映年份”字段包含有不少错误信息，应该是字段错位带来的；\n",
    "\n",
    "2）“评分平均值”字段应该只包含0~10的分数，结果出现了少部分错误值；\n",
    "\n",
    "3）“预算”、“收入”字段包含不少0值和非常小的值，需要做清理。\n",
    "\n",
    "使用Excel的筛选功能剔除该字段的错误数据，其中对“预算”、“收入”采用简单粗暴的办法，碰到0值一律直接删除。"
   ]
  },
  {
   "cell_type": "markdown",
   "metadata": {},
   "source": [
    "### 4. 是否原创？"
   ]
  },
  {
   "cell_type": "markdown",
   "metadata": {},
   "source": [
    "为了从数据中得到是原创或是改编的信息，需要分析“关键字”字段是否包含“based on novel”。通过Excel在表格中右侧新建一列，名为：on_novel，填入公式如下：\n",
    "\n",
    " = IF(COUNTIF(B2, \"*based on novel*\"), \"based on novel\", \"not based on novel\")，应用到所有数据行。其中B2为“关键字”字段位置。"
   ]
  },
  {
   "cell_type": "markdown",
   "metadata": {},
   "source": [
    "### 5. 辨别制作公司"
   ]
  },
  {
   "cell_type": "markdown",
   "metadata": {},
   "source": [
    "同样的，我们需要根据“制作公司”字段内容来对电影按照制作公司分类：该字段含有“Universal Pictures”则属于环球，含有“Paramount Pictures”属于派拉蒙，两者都不含则属于其他。在表格后方创建“producer”字段，填入公式如下：\n",
    "\n",
    "= IF(COUNTIF(G2, \"*Universal Pictures*\"), \"Universal Picures\", IF(COUNTIF(G2, \"*Paramount Pictures*\"),  \"Paramount Pictures\",  \"Neither\"))，将公式应用到所有数据行。其中G2为“制作公司”字段。\n",
    "\n",
    "将修改后的文件重新命名为“movie_data_save.csv”。"
   ]
  },
  {
   "cell_type": "code",
   "execution_count": 99,
   "metadata": {
    "collapsed": false
   },
   "outputs": [
    {
     "name": "stdout",
     "output_type": "stream",
     "text": [
      "<class 'pandas.core.frame.DataFrame'>\n",
      "RangeIndex: 3667 entries, 0 to 3666\n",
      "Data columns (total 10 columns):\n",
      "imdb_id                 3667 non-null object\n",
      "keywords                3667 non-null object\n",
      "release_year            3667 non-null int64\n",
      "budget_adj              3667 non-null float64\n",
      "revenue_adj             3667 non-null float64\n",
      "genres                  3667 non-null object\n",
      "production_companies    3667 non-null object\n",
      "vote_average            3667 non-null float64\n",
      "on_novel                3667 non-null object\n",
      "producer                3667 non-null object\n",
      "dtypes: float64(3), int64(1), object(6)\n",
      "memory usage: 200.6+ KB\n"
     ]
    }
   ],
   "source": [
    "# 重新将清理后的movie_data数据导入，\n",
    "# 得到清理掉错误字段、填入制作公司和是否原创标记的数据\n",
    "movie_data_tidy = pd.read_csv('movie_data_save.csv')\n",
    "movie_data_tidy.info()"
   ]
  },
  {
   "cell_type": "markdown",
   "metadata": {},
   "source": [
    "### 4. genres字段的处理"
   ]
  },
  {
   "cell_type": "code",
   "execution_count": 104,
   "metadata": {
    "collapsed": false
   },
   "outputs": [
    {
     "data": {
      "text/html": [
       "<div>\n",
       "<table border=\"1\" class=\"dataframe\">\n",
       "  <thead>\n",
       "    <tr style=\"text-align: right;\">\n",
       "      <th></th>\n",
       "      <th>0</th>\n",
       "      <th>1</th>\n",
       "      <th>2</th>\n",
       "      <th>3</th>\n",
       "      <th>4</th>\n",
       "    </tr>\n",
       "  </thead>\n",
       "  <tbody>\n",
       "    <tr>\n",
       "      <th>0</th>\n",
       "      <td>Action</td>\n",
       "      <td>Adventure</td>\n",
       "      <td>Science Fiction</td>\n",
       "      <td>Thriller</td>\n",
       "      <td>None</td>\n",
       "    </tr>\n",
       "    <tr>\n",
       "      <th>1</th>\n",
       "      <td>Action</td>\n",
       "      <td>Adventure</td>\n",
       "      <td>Science Fiction</td>\n",
       "      <td>Thriller</td>\n",
       "      <td>None</td>\n",
       "    </tr>\n",
       "    <tr>\n",
       "      <th>2</th>\n",
       "      <td>Adventure</td>\n",
       "      <td>Science Fiction</td>\n",
       "      <td>Thriller</td>\n",
       "      <td>None</td>\n",
       "      <td>None</td>\n",
       "    </tr>\n",
       "    <tr>\n",
       "      <th>3</th>\n",
       "      <td>Action</td>\n",
       "      <td>Adventure</td>\n",
       "      <td>Science Fiction</td>\n",
       "      <td>Fantasy</td>\n",
       "      <td>None</td>\n",
       "    </tr>\n",
       "    <tr>\n",
       "      <th>4</th>\n",
       "      <td>Action</td>\n",
       "      <td>Crime</td>\n",
       "      <td>Thriller</td>\n",
       "      <td>None</td>\n",
       "      <td>None</td>\n",
       "    </tr>\n",
       "  </tbody>\n",
       "</table>\n",
       "</div>"
      ],
      "text/plain": [
       "           0                1                2         3     4\n",
       "0     Action        Adventure  Science Fiction  Thriller  None\n",
       "1     Action        Adventure  Science Fiction  Thriller  None\n",
       "2  Adventure  Science Fiction         Thriller      None  None\n",
       "3     Action        Adventure  Science Fiction   Fantasy  None\n",
       "4     Action            Crime         Thriller      None  None"
      ]
     },
     "execution_count": 104,
     "metadata": {},
     "output_type": "execute_result"
    }
   ],
   "source": [
    "# 单独分列 genres字段\n",
    "splited_genres = movie_data['genres'].str.split('|',expand=True)\n",
    "splited_genres.head()"
   ]
  },
  {
   "cell_type": "code",
   "execution_count": 105,
   "metadata": {
    "collapsed": false
   },
   "outputs": [
    {
     "name": "stdout",
     "output_type": "stream",
     "text": [
      "<class 'pandas.core.frame.DataFrame'>\n",
      "Int64Index: 8669 entries, 0 to 10842\n",
      "Data columns (total 5 columns):\n",
      "0    8669 non-null object\n",
      "1    6982 non-null object\n",
      "2    4261 non-null object\n",
      "3    1694 non-null object\n",
      "4    469 non-null object\n",
      "dtypes: object(5)\n",
      "memory usage: 237.0+ KB\n"
     ]
    }
   ],
   "source": [
    "splited_genres.info()"
   ]
  },
  {
   "cell_type": "markdown",
   "metadata": {},
   "source": [
    "可以看到，虽然“风格”字段被提取出来，但是各列长度不一。"
   ]
  },
  {
   "cell_type": "code",
   "execution_count": 107,
   "metadata": {
    "collapsed": false
   },
   "outputs": [
    {
     "name": "stdout",
     "output_type": "stream",
     "text": [
      "<class 'pandas.core.frame.DataFrame'>\n",
      "Int64Index: 8669 entries, 0 to 10842\n",
      "Data columns (total 6 columns):\n",
      "0          8669 non-null object\n",
      "1          6982 non-null object\n",
      "2          4261 non-null object\n",
      "3          1694 non-null object\n",
      "4          469 non-null object\n",
      "imdb_id    8669 non-null object\n",
      "dtypes: object(6)\n",
      "memory usage: 270.9+ KB\n"
     ]
    }
   ],
   "source": [
    "# 把原数据的imdb_id字段赋值给splited_genres\n",
    "splited_genres['imdb_id'] = movie_data['imdb_id'] \n",
    "splited_genres.info()"
   ]
  },
  {
   "cell_type": "code",
   "execution_count": 108,
   "metadata": {
    "collapsed": false
   },
   "outputs": [
    {
     "name": "stdout",
     "output_type": "stream",
     "text": [
      "<class 'pandas.core.frame.DataFrame'>\n",
      "Int64Index: 8671 entries, 0 to 8670\n",
      "Data columns (total 13 columns):\n",
      "imdb_id                 8671 non-null object\n",
      "keywords                8671 non-null object\n",
      "release_year            8671 non-null object\n",
      "budget_adj              8671 non-null object\n",
      "revenue_adj             8671 non-null object\n",
      "genres                  8671 non-null object\n",
      "production_companies    8671 non-null object\n",
      "vote_average            8671 non-null object\n",
      "0                       8671 non-null object\n",
      "1                       6984 non-null object\n",
      "2                       4263 non-null object\n",
      "3                       1696 non-null object\n",
      "4                       471 non-null object\n",
      "dtypes: object(13)\n",
      "memory usage: 508.1+ KB\n"
     ]
    }
   ],
   "source": [
    "# 根据字段imdb_id将分列的风格字段表与原数据表进行连接\n",
    "merged_back = movie_data.merge(splited_genres)\n",
    "merged_back.info()"
   ]
  },
  {
   "cell_type": "code",
   "execution_count": 109,
   "metadata": {
    "collapsed": false,
    "scrolled": true
   },
   "outputs": [
    {
     "data": {
      "text/html": [
       "<div>\n",
       "<table border=\"1\" class=\"dataframe\">\n",
       "  <thead>\n",
       "    <tr style=\"text-align: right;\">\n",
       "      <th></th>\n",
       "      <th>imdb_id</th>\n",
       "      <th>keywords</th>\n",
       "      <th>release_year</th>\n",
       "      <th>budget_adj</th>\n",
       "      <th>revenue_adj</th>\n",
       "      <th>genres</th>\n",
       "      <th>production_companies</th>\n",
       "      <th>vote_average</th>\n",
       "      <th>0</th>\n",
       "      <th>1</th>\n",
       "      <th>2</th>\n",
       "      <th>3</th>\n",
       "      <th>4</th>\n",
       "    </tr>\n",
       "  </thead>\n",
       "  <tbody>\n",
       "    <tr>\n",
       "      <th>0</th>\n",
       "      <td>tt0369610</td>\n",
       "      <td>monster|dna|tyrannosaurus rex|velociraptor|island</td>\n",
       "      <td>2015</td>\n",
       "      <td>137999939.3</td>\n",
       "      <td>1392445893</td>\n",
       "      <td>Action|Adventure|Science Fiction|Thriller</td>\n",
       "      <td>Universal Studios|Amblin Entertainment|Legenda...</td>\n",
       "      <td>6.5</td>\n",
       "      <td>Action</td>\n",
       "      <td>Adventure</td>\n",
       "      <td>Science Fiction</td>\n",
       "      <td>Thriller</td>\n",
       "      <td>None</td>\n",
       "    </tr>\n",
       "    <tr>\n",
       "      <th>1</th>\n",
       "      <td>tt1392190</td>\n",
       "      <td>future|chase|post-apocalyptic|dystopia|australia</td>\n",
       "      <td>2015</td>\n",
       "      <td>137999939.3</td>\n",
       "      <td>348161292.5</td>\n",
       "      <td>Action|Adventure|Science Fiction|Thriller</td>\n",
       "      <td>Village Roadshow Pictures|Kennedy Miller Produ...</td>\n",
       "      <td>7.1</td>\n",
       "      <td>Action</td>\n",
       "      <td>Adventure</td>\n",
       "      <td>Science Fiction</td>\n",
       "      <td>Thriller</td>\n",
       "      <td>None</td>\n",
       "    </tr>\n",
       "    <tr>\n",
       "      <th>2</th>\n",
       "      <td>tt2908446</td>\n",
       "      <td>based on novel|revolution|dystopia|sequel|dyst...</td>\n",
       "      <td>2015</td>\n",
       "      <td>101199955.5</td>\n",
       "      <td>271619025.4</td>\n",
       "      <td>Adventure|Science Fiction|Thriller</td>\n",
       "      <td>Summit Entertainment|Mandeville Films|Red Wago...</td>\n",
       "      <td>6.3</td>\n",
       "      <td>Adventure</td>\n",
       "      <td>Science Fiction</td>\n",
       "      <td>Thriller</td>\n",
       "      <td>None</td>\n",
       "      <td>None</td>\n",
       "    </tr>\n",
       "    <tr>\n",
       "      <th>3</th>\n",
       "      <td>tt2488496</td>\n",
       "      <td>android|spaceship|jedi|space opera|3d</td>\n",
       "      <td>2015</td>\n",
       "      <td>183999919</td>\n",
       "      <td>1902723130</td>\n",
       "      <td>Action|Adventure|Science Fiction|Fantasy</td>\n",
       "      <td>Lucasfilm|Truenorth Productions|Bad Robot</td>\n",
       "      <td>7.5</td>\n",
       "      <td>Action</td>\n",
       "      <td>Adventure</td>\n",
       "      <td>Science Fiction</td>\n",
       "      <td>Fantasy</td>\n",
       "      <td>None</td>\n",
       "    </tr>\n",
       "    <tr>\n",
       "      <th>4</th>\n",
       "      <td>tt2820852</td>\n",
       "      <td>car race|speed|revenge|suspense|car</td>\n",
       "      <td>2015</td>\n",
       "      <td>174799923.1</td>\n",
       "      <td>1385748801</td>\n",
       "      <td>Action|Crime|Thriller</td>\n",
       "      <td>Universal Pictures|Original Film|Media Rights ...</td>\n",
       "      <td>7.3</td>\n",
       "      <td>Action</td>\n",
       "      <td>Crime</td>\n",
       "      <td>Thriller</td>\n",
       "      <td>None</td>\n",
       "      <td>None</td>\n",
       "    </tr>\n",
       "  </tbody>\n",
       "</table>\n",
       "</div>"
      ],
      "text/plain": [
       "     imdb_id                                           keywords release_year  \\\n",
       "0  tt0369610  monster|dna|tyrannosaurus rex|velociraptor|island         2015   \n",
       "1  tt1392190   future|chase|post-apocalyptic|dystopia|australia         2015   \n",
       "2  tt2908446  based on novel|revolution|dystopia|sequel|dyst...         2015   \n",
       "3  tt2488496              android|spaceship|jedi|space opera|3d         2015   \n",
       "4  tt2820852                car race|speed|revenge|suspense|car         2015   \n",
       "\n",
       "    budget_adj  revenue_adj                                     genres  \\\n",
       "0  137999939.3   1392445893  Action|Adventure|Science Fiction|Thriller   \n",
       "1  137999939.3  348161292.5  Action|Adventure|Science Fiction|Thriller   \n",
       "2  101199955.5  271619025.4         Adventure|Science Fiction|Thriller   \n",
       "3    183999919   1902723130   Action|Adventure|Science Fiction|Fantasy   \n",
       "4  174799923.1   1385748801                      Action|Crime|Thriller   \n",
       "\n",
       "                                production_companies vote_average          0  \\\n",
       "0  Universal Studios|Amblin Entertainment|Legenda...          6.5     Action   \n",
       "1  Village Roadshow Pictures|Kennedy Miller Produ...          7.1     Action   \n",
       "2  Summit Entertainment|Mandeville Films|Red Wago...          6.3  Adventure   \n",
       "3          Lucasfilm|Truenorth Productions|Bad Robot          7.5     Action   \n",
       "4  Universal Pictures|Original Film|Media Rights ...          7.3     Action   \n",
       "\n",
       "                 1                2         3     4  \n",
       "0        Adventure  Science Fiction  Thriller  None  \n",
       "1        Adventure  Science Fiction  Thriller  None  \n",
       "2  Science Fiction         Thriller      None  None  \n",
       "3        Adventure  Science Fiction   Fantasy  None  \n",
       "4            Crime         Thriller      None  None  "
      ]
     },
     "execution_count": 109,
     "metadata": {},
     "output_type": "execute_result"
    }
   ],
   "source": [
    "merged_back.head()"
   ]
  },
  {
   "cell_type": "code",
   "execution_count": 112,
   "metadata": {
    "collapsed": false
   },
   "outputs": [],
   "source": [
    "# 使用melt分列genres字段\n",
    "melted = pd.melt( merged_back,id_vars=['imdb_id','release_year'],\n",
    "                value_vars=[0,1,2,3,4],\n",
    "                value_name='genres').drop('variable',axis=1).dropna()"
   ]
  },
  {
   "cell_type": "code",
   "execution_count": 114,
   "metadata": {
    "collapsed": false
   },
   "outputs": [
    {
     "data": {
      "text/html": [
       "<div>\n",
       "<table border=\"1\" class=\"dataframe\">\n",
       "  <thead>\n",
       "    <tr style=\"text-align: right;\">\n",
       "      <th></th>\n",
       "      <th>imdb_id</th>\n",
       "      <th>release_year</th>\n",
       "      <th>genres</th>\n",
       "    </tr>\n",
       "  </thead>\n",
       "  <tbody>\n",
       "    <tr>\n",
       "      <th>0</th>\n",
       "      <td>tt0369610</td>\n",
       "      <td>2015</td>\n",
       "      <td>Action</td>\n",
       "    </tr>\n",
       "    <tr>\n",
       "      <th>1</th>\n",
       "      <td>tt1392190</td>\n",
       "      <td>2015</td>\n",
       "      <td>Action</td>\n",
       "    </tr>\n",
       "    <tr>\n",
       "      <th>2</th>\n",
       "      <td>tt2908446</td>\n",
       "      <td>2015</td>\n",
       "      <td>Adventure</td>\n",
       "    </tr>\n",
       "    <tr>\n",
       "      <th>3</th>\n",
       "      <td>tt2488496</td>\n",
       "      <td>2015</td>\n",
       "      <td>Action</td>\n",
       "    </tr>\n",
       "    <tr>\n",
       "      <th>4</th>\n",
       "      <td>tt2820852</td>\n",
       "      <td>2015</td>\n",
       "      <td>Action</td>\n",
       "    </tr>\n",
       "    <tr>\n",
       "      <th>5</th>\n",
       "      <td>tt1663202</td>\n",
       "      <td>2015</td>\n",
       "      <td>Western</td>\n",
       "    </tr>\n",
       "    <tr>\n",
       "      <th>6</th>\n",
       "      <td>tt1340138</td>\n",
       "      <td>2015</td>\n",
       "      <td>Science Fiction</td>\n",
       "    </tr>\n",
       "    <tr>\n",
       "      <th>7</th>\n",
       "      <td>tt3659388</td>\n",
       "      <td>2015</td>\n",
       "      <td>Drama</td>\n",
       "    </tr>\n",
       "    <tr>\n",
       "      <th>8</th>\n",
       "      <td>tt2293640</td>\n",
       "      <td>2015</td>\n",
       "      <td>Family</td>\n",
       "    </tr>\n",
       "    <tr>\n",
       "      <th>9</th>\n",
       "      <td>tt2096673</td>\n",
       "      <td>2015</td>\n",
       "      <td>Comedy</td>\n",
       "    </tr>\n",
       "  </tbody>\n",
       "</table>\n",
       "</div>"
      ],
      "text/plain": [
       "     imdb_id release_year           genres\n",
       "0  tt0369610         2015           Action\n",
       "1  tt1392190         2015           Action\n",
       "2  tt2908446         2015        Adventure\n",
       "3  tt2488496         2015           Action\n",
       "4  tt2820852         2015           Action\n",
       "5  tt1663202         2015          Western\n",
       "6  tt1340138         2015  Science Fiction\n",
       "7  tt3659388         2015            Drama\n",
       "8  tt2293640         2015           Family\n",
       "9  tt2096673         2015           Comedy"
      ]
     },
     "execution_count": 114,
     "metadata": {},
     "output_type": "execute_result"
    }
   ],
   "source": [
    "# 输出melted\n",
    "melted.to_csv('genres_in_year.csv',index=False)\n",
    "melted.head(10)"
   ]
  },
  {
   "cell_type": "markdown",
   "metadata": {},
   "source": [
    "### 5. 清理脏数据"
   ]
  },
  {
   "cell_type": "markdown",
   "metadata": {},
   "source": [
    "使用Excel检查上一步生成的文件，使用筛选功能，发现以下问题：\n",
    "\n",
    "风格字段中，串入了部分大段的文字描述，明显不属于风格内容。\n",
    "\n",
    "解决方式如下：\n",
    "\n",
    "1）在新列一个字段，名为len_genres，键入公式: =len(C2)，C为genres列标，将公式应用到全部数据，该列意义为：genres字段文字长度；\n",
    "\n",
    "2）利用Excel的筛选功能，去除掉“len_genres”字段中大于15、或者小于3的字段，使得剩下的都是正确的风格描述字，保存为\"genres_in_year_tidy.csv\"。\n"
   ]
  },
  {
   "cell_type": "markdown",
   "metadata": {},
   "source": [
    "## 二. 问题的提出"
   ]
  },
  {
   "cell_type": "markdown",
   "metadata": {},
   "source": [
    "### 1.电影类型如何随着时代变化而变化的？ "
   ]
  },
  {
   "cell_type": "markdown",
   "metadata": {},
   "source": [
    "### 2. 环球影业（Universal Pictures）和派拉蒙影业（Paramount Pictures）的电影之间的数据指标有什么区别？ "
   ]
  },
  {
   "cell_type": "markdown",
   "metadata": {},
   "source": [
    "### 3. 和非小说改编（not based on novel）电影相比，基于小说改编（based on novel）的电影表现如何？ "
   ]
  },
  {
   "cell_type": "markdown",
   "metadata": {},
   "source": [
    "### 4.随着年代变化，电影平均预算与收入变化情况怎样（使用调整后的金额进行比较）？ "
   ]
  },
  {
   "cell_type": "markdown",
   "metadata": {},
   "source": [
    "## 三. 问题的解答"
   ]
  },
  {
   "cell_type": "markdown",
   "metadata": {},
   "source": [
    "### 问题1"
   ]
  },
  {
   "cell_type": "markdown",
   "metadata": {},
   "source": [
    "总体来看，最多的电影类型包含：剧情、喜剧、惊悚、动作等，西部、TV电影、外语相对较少。\n",
    "\n",
    "从时间分布来看，早期各个类型都不是很多，且相差不大；各个类型随着时间推移出现得越来越多，其中剧情、惊悚、喜剧、动作类上升速度最快，因而在类型总数上占据优势。"
   ]
  },
  {
   "cell_type": "markdown",
   "metadata": {},
   "source": [
    "### 问题2"
   ]
  },
  {
   "cell_type": "markdown",
   "metadata": {},
   "source": [
    "环球在制作电影数量、平均口碑、总预算、总收入方面超过派拉蒙，而派拉蒙则在平均预算、平均收入方面力压环球。"
   ]
  },
  {
   "cell_type": "markdown",
   "metadata": {},
   "source": [
    "### 问题3"
   ]
  },
  {
   "cell_type": "markdown",
   "metadata": {},
   "source": [
    "给出的数据中，原创类电影数量占据压倒性优势（3501/166）；在口碑方面，原创电影则弱于改编电影（6.1661/6.4916）；平均预算与平均收入方面，原创类电影均逊色与对手。"
   ]
  },
  {
   "cell_type": "markdown",
   "metadata": {},
   "source": [
    "### 问题4"
   ]
  },
  {
   "cell_type": "markdown",
   "metadata": {},
   "source": [
    "随着年代推进，调整后的总预算和总收入都呈现不断上升趋势，其中总预算在进入2005年以后有所下降；从平均值来看，早年电影平均收入远高于近年，且波动极大，平均预算也大于近年，随着时间进入80年代以后，平均收入进入稳定期，略有起伏，而预算则相对稳定；结合是否小说改编这一因素来看，改编电影的口碑、预算、收入都比原创电影波动更大，原创电影各方面都表现得更加平和稳健。结合之前的展示，这也许可以解释为什么原创电影数量远大于改编电影，一方面改编电影需要合适的小说作为改编剧本，这样的小说不是遍地都是；其次稳健的收益表现从投资的角度来讲，更加容易受投资方青睐。"
   ]
  },
  {
   "cell_type": "markdown",
   "metadata": {},
   "source": [
    "可视化连结：[点我](https://public.tableau.com/profile/liu.yufei#!/vizhome/Homework3_35/Q1-1)"
   ]
  }
 ],
 "metadata": {
  "kernelspec": {
   "display_name": "Python 2",
   "language": "python",
   "name": "python2"
  },
  "language_info": {
   "codemirror_mode": {
    "name": "ipython",
    "version": 2
   },
   "file_extension": ".py",
   "mimetype": "text/x-python",
   "name": "python",
   "nbconvert_exporter": "python",
   "pygments_lexer": "ipython2",
   "version": "2.7.11"
  }
 },
 "nbformat": 4,
 "nbformat_minor": 0
}
